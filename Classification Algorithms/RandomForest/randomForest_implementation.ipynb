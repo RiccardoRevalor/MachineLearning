{
 "cells": [
  {
   "cell_type": "markdown",
   "metadata": {},
   "source": [
    "## RANDOM FOREST vs DECISION TREE"
   ]
  },
  {
   "cell_type": "code",
   "execution_count": 136,
   "metadata": {},
   "outputs": [],
   "source": [
    "import pandas as pd\n",
    "from sklearn.tree import DecisionTreeClassifier # Import Decision Tree, Random Forest Classifier\n",
    "from sklearn.ensemble import RandomForestClassifier\n",
    "from sklearn.model_selection import train_test_split #Function to split dataset into training set and test set\n",
    "from sklearn import metrics #Metric module for accuracy calculations"
   ]
  },
  {
   "cell_type": "code",
   "execution_count": 137,
   "metadata": {},
   "outputs": [
    {
     "data": {
      "text/html": [
       "<div>\n",
       "<style scoped>\n",
       "    .dataframe tbody tr th:only-of-type {\n",
       "        vertical-align: middle;\n",
       "    }\n",
       "\n",
       "    .dataframe tbody tr th {\n",
       "        vertical-align: top;\n",
       "    }\n",
       "\n",
       "    .dataframe thead th {\n",
       "        text-align: right;\n",
       "    }\n",
       "</style>\n",
       "<table border=\"1\" class=\"dataframe\">\n",
       "  <thead>\n",
       "    <tr style=\"text-align: right;\">\n",
       "      <th></th>\n",
       "      <th>pregnancies</th>\n",
       "      <th>glucose</th>\n",
       "      <th>bp</th>\n",
       "      <th>skin</th>\n",
       "      <th>insulin</th>\n",
       "      <th>bmi</th>\n",
       "      <th>pedigree</th>\n",
       "      <th>age</th>\n",
       "      <th>label</th>\n",
       "    </tr>\n",
       "  </thead>\n",
       "  <tbody>\n",
       "    <tr>\n",
       "      <th>1</th>\n",
       "      <td>6</td>\n",
       "      <td>148</td>\n",
       "      <td>72</td>\n",
       "      <td>35</td>\n",
       "      <td>0</td>\n",
       "      <td>33.6</td>\n",
       "      <td>0.627</td>\n",
       "      <td>50</td>\n",
       "      <td>1</td>\n",
       "    </tr>\n",
       "    <tr>\n",
       "      <th>2</th>\n",
       "      <td>1</td>\n",
       "      <td>85</td>\n",
       "      <td>66</td>\n",
       "      <td>29</td>\n",
       "      <td>0</td>\n",
       "      <td>26.6</td>\n",
       "      <td>0.351</td>\n",
       "      <td>31</td>\n",
       "      <td>0</td>\n",
       "    </tr>\n",
       "    <tr>\n",
       "      <th>3</th>\n",
       "      <td>8</td>\n",
       "      <td>183</td>\n",
       "      <td>64</td>\n",
       "      <td>0</td>\n",
       "      <td>0</td>\n",
       "      <td>23.3</td>\n",
       "      <td>0.672</td>\n",
       "      <td>32</td>\n",
       "      <td>1</td>\n",
       "    </tr>\n",
       "    <tr>\n",
       "      <th>4</th>\n",
       "      <td>1</td>\n",
       "      <td>89</td>\n",
       "      <td>66</td>\n",
       "      <td>23</td>\n",
       "      <td>94</td>\n",
       "      <td>28.1</td>\n",
       "      <td>0.167</td>\n",
       "      <td>21</td>\n",
       "      <td>0</td>\n",
       "    </tr>\n",
       "    <tr>\n",
       "      <th>5</th>\n",
       "      <td>0</td>\n",
       "      <td>137</td>\n",
       "      <td>40</td>\n",
       "      <td>35</td>\n",
       "      <td>168</td>\n",
       "      <td>43.1</td>\n",
       "      <td>2.288</td>\n",
       "      <td>33</td>\n",
       "      <td>1</td>\n",
       "    </tr>\n",
       "  </tbody>\n",
       "</table>\n",
       "</div>"
      ],
      "text/plain": [
       "  pregnancies glucose  bp skin insulin   bmi pedigree age label\n",
       "1           6     148  72   35       0  33.6    0.627  50     1\n",
       "2           1      85  66   29       0  26.6    0.351  31     0\n",
       "3           8     183  64    0       0  23.3    0.672  32     1\n",
       "4           1      89  66   23      94  28.1    0.167  21     0\n",
       "5           0     137  40   35     168  43.1    2.288  33     1"
      ]
     },
     "execution_count": 137,
     "metadata": {},
     "output_type": "execute_result"
    }
   ],
   "source": [
    "#Import the csv file\n",
    "\n",
    "columns = [\"pregnancies\", \"glucose\", \"bp\", 'skin', 'insulin', 'bmi', 'pedigree', 'age', 'label']\n",
    "pima_dataset = pd.read_csv(\"diabetes.csv\", header=None, names=columns)\n",
    "\n",
    "#eliminate the first row\n",
    "pima_dataset = pima_dataset.iloc[1:]\n",
    "\n",
    "pima_dataset.head()"
   ]
  },
  {
   "cell_type": "code",
   "execution_count": 138,
   "metadata": {},
   "outputs": [],
   "source": [
    "#divide columns into features and target variable\n",
    "#y = target\n",
    "#x = features\n",
    "y = pima_dataset.label\n",
    "x = pima_dataset[[col for col in pima_dataset.columns if col != 'label']]\n",
    "\n",
    "#replace NaN values with 0\n",
    "x = x.fillna(0)\n",
    "\n",
    "\n",
    "#split dataset into training set and test set\n",
    "x_train, x_test, y_train, y_test = train_test_split(x, y, test_size=0.3, random_state=1)"
   ]
  },
  {
   "cell_type": "code",
   "execution_count": 139,
   "metadata": {},
   "outputs": [],
   "source": [
    "#DECISION TREE\n",
    "#Create Decision Tree classifer object\n",
    "dt_clf = DecisionTreeClassifier(criterion=\"entropy\", max_depth=6, random_state=42)\n",
    "dt_clf.fit(x_train, y_train)\n",
    "y_pred_dt = dt_clf.predict(x_test)\n"
   ]
  },
  {
   "cell_type": "code",
   "execution_count": 140,
   "metadata": {},
   "outputs": [],
   "source": [
    "#RANDOM FOREST\n",
    "#Create Random Forest classifer object\n",
    "rf_clf = RandomForestClassifier(n_estimators=150, random_state=42, max_depth=20, min_samples_split=2, min_samples_leaf=1)\n",
    "rf_clf.fit(x_train, y_train)\n",
    "y_pred_rf = rf_clf.predict(x_test)"
   ]
  },
  {
   "cell_type": "code",
   "execution_count": 141,
   "metadata": {},
   "outputs": [
    {
     "name": "stdout",
     "output_type": "stream",
     "text": [
      "Decision Tree Accuracy: 0.7619047619047619\n",
      "Random Forest Accuracy: 0.8051948051948052\n",
      "Decision Tree Classification Report:\n",
      "              precision    recall  f1-score   support\n",
      "\n",
      "           0       0.77      0.88      0.82       146\n",
      "           1       0.73      0.55      0.63        85\n",
      "\n",
      "    accuracy                           0.76       231\n",
      "   macro avg       0.75      0.72      0.73       231\n",
      "weighted avg       0.76      0.76      0.75       231\n",
      "\n",
      "Random Forest Classification Report:\n",
      "              precision    recall  f1-score   support\n",
      "\n",
      "           0       0.81      0.90      0.85       146\n",
      "           1       0.79      0.64      0.71        85\n",
      "\n",
      "    accuracy                           0.81       231\n",
      "   macro avg       0.80      0.77      0.78       231\n",
      "weighted avg       0.80      0.81      0.80       231\n",
      "\n"
     ]
    }
   ],
   "source": [
    "#COMPARE THE ACCURACY OF THE TWO MODELS\n",
    "print(\"Decision Tree Accuracy:\", metrics.accuracy_score(y_test, y_pred_dt))\n",
    "print(\"Random Forest Accuracy:\", metrics.accuracy_score(y_test, y_pred_rf))\n",
    "\n",
    "#CLASSIFICATION REPORT\n",
    "print(\"Decision Tree Classification Report:\")\n",
    "print(metrics.classification_report(y_test, y_pred_dt))\n",
    "print(\"Random Forest Classification Report:\")\n",
    "print(metrics.classification_report(y_test, y_pred_rf))"
   ]
  },
  {
   "cell_type": "markdown",
   "metadata": {},
   "source": [
    "## GRID SEARCH FOR MAXIMIZING THE PERFORMANCE OF THE RANDOM FOREST CLASSIFIER"
   ]
  },
  {
   "cell_type": "code",
   "execution_count": 142,
   "metadata": {},
   "outputs": [],
   "source": [
    "from sklearn.model_selection import GridSearchCV\n",
    "\n",
    "''' \n",
    "Grid Search for maximizing:\n",
    "1) num of estimators\n",
    "2) max depth\n",
    "3) min samples split\n",
    "4) min samples leaf\n",
    "'''\n",
    "\n",
    "rf = RandomForestClassifier(random_state=42)\n",
    "\n",
    "grid = {'n_estimators': [50, 70, 90, 100],\n",
    "        'max_depth': [None, 6, 8, 10, 15],\n",
    "        'min_samples_split': [2, 3, 4],\n",
    "        'min_samples_leaf': [1, 2]}\n",
    "\n",
    "grid_search = GridSearchCV(estimator=rf, param_grid=grid, cv=5, n_jobs=-1, verbose=2)"
   ]
  },
  {
   "cell_type": "code",
   "execution_count": 143,
   "metadata": {},
   "outputs": [
    {
     "name": "stdout",
     "output_type": "stream",
     "text": [
      "Fitting 5 folds for each of 120 candidates, totalling 600 fits\n",
      "The best parameters are: {'max_depth': 8, 'min_samples_leaf': 1, 'min_samples_split': 4, 'n_estimators': 50}\n",
      "Accuracy: 0.8095238095238095\n",
      "Classification Report:\n",
      "              precision    recall  f1-score   support\n",
      "\n",
      "           0       0.81      0.91      0.86       146\n",
      "           1       0.81      0.64      0.71        85\n",
      "\n",
      "    accuracy                           0.81       231\n",
      "   macro avg       0.81      0.77      0.78       231\n",
      "weighted avg       0.81      0.81      0.80       231\n",
      "\n"
     ]
    }
   ],
   "source": [
    "# Fit del grid search sui dati di addestramento\n",
    "grid_search.fit(x_train, y_train)\n",
    "\n",
    "# Visualizzazione dei migliori parametri trovati\n",
    "print(\"The best parameters are:\", grid_search.best_params_)\n",
    "\n",
    "# Predizione usando il miglior modello trovato\n",
    "y_pred = grid_search.best_estimator_.predict(x_test)\n",
    "\n",
    "# Calcolare e stampare l'accuratezza\n",
    "print(\"Accuracy:\", metrics.accuracy_score(y_test, y_pred))\n",
    "\n",
    "#classification report\n",
    "print(\"Classification Report:\")\n",
    "print(metrics.classification_report(y_test, y_pred))"
   ]
  }
 ],
 "metadata": {
  "kernelspec": {
   "display_name": "Python 3",
   "language": "python",
   "name": "python3"
  },
  "language_info": {
   "codemirror_mode": {
    "name": "ipython",
    "version": 3
   },
   "file_extension": ".py",
   "mimetype": "text/x-python",
   "name": "python",
   "nbconvert_exporter": "python",
   "pygments_lexer": "ipython3",
   "version": "3.9.7"
  }
 },
 "nbformat": 4,
 "nbformat_minor": 2
}
