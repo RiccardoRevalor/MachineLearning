{
 "cells": [
  {
   "cell_type": "markdown",
   "metadata": {},
   "source": [
    "## KNN Classifier"
   ]
  },
  {
   "cell_type": "code",
   "execution_count": 91,
   "metadata": {},
   "outputs": [
    {
     "name": "stdout",
     "output_type": "stream",
     "text": [
      "Shape of the data:  (699, 11)\n",
      "Columns:  Index(['Sample code number', 'Clump Thickness', 'Uniformity of Cell Size',\n",
      "       'Uniformity of Cell Shape', 'Marginal Adhesion',\n",
      "       'Single Epithelial Cell Size', 'Bare Nuclei', 'Bland Chromatin',\n",
      "       'Normal Nucleoli', 'Mitoses', 'Class'],\n",
      "      dtype='object')\n"
     ]
    }
   ],
   "source": [
    "import numpy as np\n",
    "import pandas as pd\n",
    "import matplotlib.pyplot as plt\n",
    "import seaborn as sns\n",
    "%matplotlib inline\n",
    "\n",
    "df = pd.read_csv('breast_cancer_bd.csv')\n",
    "print(\"Shape of the data: \", df.shape)\n",
    "print(\"Columns: \", df.columns)"
   ]
  },
  {
   "cell_type": "code",
   "execution_count": 92,
   "metadata": {},
   "outputs": [
    {
     "data": {
      "text/html": [
       "<div>\n",
       "<style scoped>\n",
       "    .dataframe tbody tr th:only-of-type {\n",
       "        vertical-align: middle;\n",
       "    }\n",
       "\n",
       "    .dataframe tbody tr th {\n",
       "        vertical-align: top;\n",
       "    }\n",
       "\n",
       "    .dataframe thead th {\n",
       "        text-align: right;\n",
       "    }\n",
       "</style>\n",
       "<table border=\"1\" class=\"dataframe\">\n",
       "  <thead>\n",
       "    <tr style=\"text-align: right;\">\n",
       "      <th></th>\n",
       "      <th>Sample code number</th>\n",
       "      <th>Clump Thickness</th>\n",
       "      <th>Uniformity of Cell Size</th>\n",
       "      <th>Uniformity of Cell Shape</th>\n",
       "      <th>Marginal Adhesion</th>\n",
       "      <th>Single Epithelial Cell Size</th>\n",
       "      <th>Bare Nuclei</th>\n",
       "      <th>Bland Chromatin</th>\n",
       "      <th>Normal Nucleoli</th>\n",
       "      <th>Mitoses</th>\n",
       "      <th>Class</th>\n",
       "    </tr>\n",
       "  </thead>\n",
       "  <tbody>\n",
       "    <tr>\n",
       "      <th>0</th>\n",
       "      <td>1000025</td>\n",
       "      <td>5</td>\n",
       "      <td>1</td>\n",
       "      <td>1</td>\n",
       "      <td>1</td>\n",
       "      <td>2</td>\n",
       "      <td>1</td>\n",
       "      <td>3</td>\n",
       "      <td>1</td>\n",
       "      <td>1</td>\n",
       "      <td>2</td>\n",
       "    </tr>\n",
       "    <tr>\n",
       "      <th>1</th>\n",
       "      <td>1002945</td>\n",
       "      <td>5</td>\n",
       "      <td>4</td>\n",
       "      <td>4</td>\n",
       "      <td>5</td>\n",
       "      <td>7</td>\n",
       "      <td>10</td>\n",
       "      <td>3</td>\n",
       "      <td>2</td>\n",
       "      <td>1</td>\n",
       "      <td>2</td>\n",
       "    </tr>\n",
       "    <tr>\n",
       "      <th>2</th>\n",
       "      <td>1015425</td>\n",
       "      <td>3</td>\n",
       "      <td>1</td>\n",
       "      <td>1</td>\n",
       "      <td>1</td>\n",
       "      <td>2</td>\n",
       "      <td>2</td>\n",
       "      <td>3</td>\n",
       "      <td>1</td>\n",
       "      <td>1</td>\n",
       "      <td>2</td>\n",
       "    </tr>\n",
       "    <tr>\n",
       "      <th>3</th>\n",
       "      <td>1016277</td>\n",
       "      <td>6</td>\n",
       "      <td>8</td>\n",
       "      <td>8</td>\n",
       "      <td>1</td>\n",
       "      <td>3</td>\n",
       "      <td>4</td>\n",
       "      <td>3</td>\n",
       "      <td>7</td>\n",
       "      <td>1</td>\n",
       "      <td>2</td>\n",
       "    </tr>\n",
       "    <tr>\n",
       "      <th>4</th>\n",
       "      <td>1017023</td>\n",
       "      <td>4</td>\n",
       "      <td>1</td>\n",
       "      <td>1</td>\n",
       "      <td>3</td>\n",
       "      <td>2</td>\n",
       "      <td>1</td>\n",
       "      <td>3</td>\n",
       "      <td>1</td>\n",
       "      <td>1</td>\n",
       "      <td>2</td>\n",
       "    </tr>\n",
       "  </tbody>\n",
       "</table>\n",
       "</div>"
      ],
      "text/plain": [
       "   Sample code number  Clump Thickness  Uniformity of Cell Size  \\\n",
       "0             1000025                5                        1   \n",
       "1             1002945                5                        4   \n",
       "2             1015425                3                        1   \n",
       "3             1016277                6                        8   \n",
       "4             1017023                4                        1   \n",
       "\n",
       "   Uniformity of Cell Shape  Marginal Adhesion  Single Epithelial Cell Size  \\\n",
       "0                         1                  1                            2   \n",
       "1                         4                  5                            7   \n",
       "2                         1                  1                            2   \n",
       "3                         8                  1                            3   \n",
       "4                         1                  3                            2   \n",
       "\n",
       "  Bare Nuclei  Bland Chromatin  Normal Nucleoli  Mitoses  Class  \n",
       "0           1                3                1        1      2  \n",
       "1          10                3                2        1      2  \n",
       "2           2                3                1        1      2  \n",
       "3           4                3                7        1      2  \n",
       "4           1                3                1        1      2  "
      ]
     },
     "execution_count": 92,
     "metadata": {},
     "output_type": "execute_result"
    }
   ],
   "source": [
    "df.head()"
   ]
  },
  {
   "cell_type": "code",
   "execution_count": 93,
   "metadata": {},
   "outputs": [
    {
     "name": "stdout",
     "output_type": "stream",
     "text": [
      "<class 'pandas.core.frame.DataFrame'>\n",
      "RangeIndex: 699 entries, 0 to 698\n",
      "Data columns (total 10 columns):\n",
      " #   Column                       Non-Null Count  Dtype \n",
      "---  ------                       --------------  ----- \n",
      " 0   Clump Thickness              699 non-null    int64 \n",
      " 1   Uniformity of Cell Size      699 non-null    int64 \n",
      " 2   Uniformity of Cell Shape     699 non-null    int64 \n",
      " 3   Marginal Adhesion            699 non-null    int64 \n",
      " 4   Single Epithelial Cell Size  699 non-null    int64 \n",
      " 5   Bare Nuclei                  699 non-null    object\n",
      " 6   Bland Chromatin              699 non-null    int64 \n",
      " 7   Normal Nucleoli              699 non-null    int64 \n",
      " 8   Mitoses                      699 non-null    int64 \n",
      " 9   Class                        699 non-null    int64 \n",
      "dtypes: int64(9), object(1)\n",
      "memory usage: 54.7+ KB\n"
     ]
    }
   ],
   "source": [
    "#drop redundant columns\n",
    "#drop Sample code number as it is not useful\n",
    "df.drop('Sample code number', axis=1, inplace=True)\n",
    "df.head()\n",
    "df.info()"
   ]
  },
  {
   "cell_type": "code",
   "execution_count": 94,
   "metadata": {},
   "outputs": [
    {
     "name": "stdout",
     "output_type": "stream",
     "text": [
      "<class 'pandas.core.frame.DataFrame'>\n",
      "RangeIndex: 699 entries, 0 to 698\n",
      "Data columns (total 10 columns):\n",
      " #   Column                       Non-Null Count  Dtype  \n",
      "---  ------                       --------------  -----  \n",
      " 0   Clump Thickness              699 non-null    int64  \n",
      " 1   Uniformity of Cell Size      699 non-null    int64  \n",
      " 2   Uniformity of Cell Shape     699 non-null    int64  \n",
      " 3   Marginal Adhesion            699 non-null    int64  \n",
      " 4   Single Epithelial Cell Size  699 non-null    int64  \n",
      " 5   Bare Nuclei                  683 non-null    float64\n",
      " 6   Bland Chromatin              699 non-null    int64  \n",
      " 7   Normal Nucleoli              699 non-null    int64  \n",
      " 8   Mitoses                      699 non-null    int64  \n",
      " 9   Class                        699 non-null    int64  \n",
      "dtypes: float64(1), int64(9)\n",
      "memory usage: 54.7 KB\n"
     ]
    }
   ],
   "source": [
    "#convert Bare Nuclei from object to int64 deleting all non-numeric values\n",
    "df['Bare Nuclei'] = df['Bare Nuclei'].apply(lambda x: int(x) if str(x).isnumeric() else np.nan)\n",
    "\n",
    "df.info()"
   ]
  },
  {
   "cell_type": "markdown",
   "metadata": {},
   "source": [
    "Class is the target variable, the others are features."
   ]
  },
  {
   "cell_type": "code",
   "execution_count": 95,
   "metadata": {},
   "outputs": [
    {
     "data": {
      "text/plain": [
       "Clump Thickness                 0\n",
       "Uniformity of Cell Size         0\n",
       "Uniformity of Cell Shape        0\n",
       "Marginal Adhesion               0\n",
       "Single Epithelial Cell Size     0\n",
       "Bare Nuclei                    16\n",
       "Bland Chromatin                 0\n",
       "Normal Nucleoli                 0\n",
       "Mitoses                         0\n",
       "Class                           0\n",
       "dtype: int64"
      ]
     },
     "execution_count": 95,
     "metadata": {},
     "output_type": "execute_result"
    }
   ],
   "source": [
    "df.isnull().sum()"
   ]
  },
  {
   "cell_type": "code",
   "execution_count": 96,
   "metadata": {},
   "outputs": [
    {
     "data": {
      "text/plain": [
       "2    458\n",
       "4    241\n",
       "Name: Class, dtype: int64"
      ]
     },
     "execution_count": 96,
     "metadata": {},
     "output_type": "execute_result"
    }
   ],
   "source": [
    "# view frequency distribution of values in `Class` variable\n",
    "\n",
    "df['Class'].value_counts()"
   ]
  },
  {
   "cell_type": "code",
   "execution_count": 97,
   "metadata": {},
   "outputs": [
    {
     "data": {
      "text/plain": [
       "2    0.655222\n",
       "4    0.344778\n",
       "Name: Class, dtype: float64"
      ]
     },
     "execution_count": 97,
     "metadata": {},
     "output_type": "execute_result"
    }
   ],
   "source": [
    "\n",
    "#Find frequency distribution of values in `Class` variable\n",
    "df['Class'].value_counts() / np.float(len(df))"
   ]
  },
  {
   "cell_type": "markdown",
   "metadata": {},
   "source": [
    "2 --> benign \\\n",
    "4 --> malign"
   ]
  },
  {
   "cell_type": "code",
   "execution_count": 98,
   "metadata": {},
   "outputs": [
    {
     "data": {
      "image/png": "[encoded data removed]",
      "text/plain": [
       "<Figure size 1440x1080 with 10 Axes>"
      ]
     },
     "metadata": {
      "needs_background": "light"
     },
     "output_type": "display_data"
    },
    {
     "name": "stdout",
     "output_type": "stream",
     "text": [
      "Description of df:        Clump Thickness  Uniformity of Cell Size  Uniformity of Cell Shape  \\\n",
      "count           699.00                   699.00                    699.00   \n",
      "mean              4.42                     3.13                      3.21   \n",
      "std               2.82                     3.05                      2.97   \n",
      "min               1.00                     1.00                      1.00   \n",
      "25%               2.00                     1.00                      1.00   \n",
      "50%               4.00                     1.00                      1.00   \n",
      "75%               6.00                     5.00                      5.00   \n",
      "max              10.00                    10.00                     10.00   \n",
      "\n",
      "       Marginal Adhesion  Single Epithelial Cell Size  Bare Nuclei  \\\n",
      "count             699.00                       699.00       683.00   \n",
      "mean                2.81                         3.22         3.54   \n",
      "std                 2.86                         2.21         3.64   \n",
      "min                 1.00                         1.00         1.00   \n",
      "25%                 1.00                         2.00         1.00   \n",
      "50%                 1.00                         2.00         1.00   \n",
      "75%                 4.00                         4.00         6.00   \n",
      "max                10.00                        10.00        10.00   \n",
      "\n",
      "       Bland Chromatin  Normal Nucleoli  Mitoses   Class  \n",
      "count           699.00           699.00   699.00  699.00  \n",
      "mean              3.44             2.87     1.59    2.69  \n",
      "std               2.44             3.05     1.72    0.95  \n",
      "min               1.00             1.00     1.00    2.00  \n",
      "25%               2.00             1.00     1.00    2.00  \n",
      "50%               3.00             1.00     1.00    2.00  \n",
      "75%               5.00             4.00     1.00    4.00  \n",
      "max              10.00            10.00    10.00    4.00  \n"
     ]
    }
   ],
   "source": [
    "#Check the presence of outliers\n",
    "plt.figure(figsize=(20,15))\n",
    "for i, feature in enumerate(df.columns):\n",
    "    plt.subplot(3, 5, i+1)\n",
    "    df[feature].hist()\n",
    "    plt.title(feature)\n",
    "    #y axis: number of samples\n",
    "    #x axis: feature value\n",
    "    #plt.ylabel('Number of samples')\n",
    "    #plt.xlabel(feature)\n",
    "\n",
    "plt.show()\n",
    "\n",
    "print(\"Description of df:\", round(df.describe(), 2))\n"
   ]
  },
  {
   "cell_type": "code",
   "execution_count": 99,
   "metadata": {},
   "outputs": [
    {
     "name": "stdout",
     "output_type": "stream",
     "text": [
      "Max value of each feature:  Clump Thickness                10.0\n",
      "Uniformity of Cell Size        10.0\n",
      "Uniformity of Cell Shape       10.0\n",
      "Marginal Adhesion              10.0\n",
      "Single Epithelial Cell Size    10.0\n",
      "Bare Nuclei                    10.0\n",
      "Bland Chromatin                10.0\n",
      "Normal Nucleoli                10.0\n",
      "Mitoses                        10.0\n",
      "Class                           4.0\n",
      "dtype: float64\n",
      "\n",
      "\n",
      "\n",
      "Min value of each feature:  Clump Thickness                1.0\n",
      "Uniformity of Cell Size        1.0\n",
      "Uniformity of Cell Shape       1.0\n",
      "Marginal Adhesion              1.0\n",
      "Single Epithelial Cell Size    1.0\n",
      "Bare Nuclei                    1.0\n",
      "Bland Chromatin                1.0\n",
      "Normal Nucleoli                1.0\n",
      "Mitoses                        1.0\n",
      "Class                          2.0\n",
      "dtype: float64\n",
      "\n",
      "\n",
      "\n"
     ]
    }
   ],
   "source": [
    "print(\"Max value of each feature: \", df.max())\n",
    "print(\"\\n\\n\")\n",
    "print(\"Min value of each feature: \", df.min())\n",
    "print(\"\\n\\n\")"
   ]
  },
  {
   "cell_type": "markdown",
   "metadata": {},
   "source": [
    "Thee values seem already normalized."
   ]
  },
  {
   "cell_type": "code",
   "execution_count": 100,
   "metadata": {},
   "outputs": [
    {
     "name": "stdout",
     "output_type": "stream",
     "text": [
      "Mean value of each feature:  Clump Thickness                4.417740\n",
      "Uniformity of Cell Size        3.134478\n",
      "Uniformity of Cell Shape       3.207439\n",
      "Marginal Adhesion              2.806867\n",
      "Single Epithelial Cell Size    3.216023\n",
      "Bare Nuclei                    3.544656\n",
      "Bland Chromatin                3.437768\n",
      "Normal Nucleoli                2.866953\n",
      "Mitoses                        1.589413\n",
      "Class                          2.689557\n",
      "dtype: float64\n"
     ]
    }
   ],
   "source": [
    "print(\"Mean value of each feature: \", df.mean())"
   ]
  },
  {
   "cell_type": "markdown",
   "metadata": {},
   "source": [
    "Compute the Pearson's correlation coefficient"
   ]
  },
  {
   "cell_type": "code",
   "execution_count": 101,
   "metadata": {},
   "outputs": [
    {
     "data": {
      "text/plain": [
       "Class                          1.000000\n",
       "Bare Nuclei                    0.822696\n",
       "Uniformity of Cell Shape       0.818934\n",
       "Uniformity of Cell Size        0.817904\n",
       "Bland Chromatin                0.756616\n",
       "Clump Thickness                0.716001\n",
       "Normal Nucleoli                0.712244\n",
       "Marginal Adhesion              0.696800\n",
       "Single Epithelial Cell Size    0.682785\n",
       "Mitoses                        0.423170\n",
       "Name: Class, dtype: float64"
      ]
     },
     "execution_count": 101,
     "metadata": {},
     "output_type": "execute_result"
    }
   ],
   "source": [
    "#Class is the target variable, so the Pearson correlation coefficient of the features with the target variable is calculated\n",
    "corr = df.corr()\n",
    "corr['Class'].sort_values(ascending=False)"
   ]
  },
  {
   "cell_type": "markdown",
   "metadata": {},
   "source": [
    "Correlation HeatMap with Seaborn"
   ]
  },
  {
   "cell_type": "code",
   "execution_count": 102,
   "metadata": {},
   "outputs": [
    {
     "data": {
      "image/png": "[encoded data removed]",
      "text/plain": [
       "<Figure size 864x720 with 2 Axes>"
      ]
     },
     "metadata": {
      "needs_background": "light"
     },
     "output_type": "display_data"
    }
   ],
   "source": [
    "plt.figure(figsize=(12, 10))\n",
    "plt.title('Correlation of Features with Class')\n",
    "m = sns.heatmap(corr, square=True, annot=True, fmt='.4f', linecolor='white')\n",
    "m.set_xticklabels(m.get_xticklabels(), rotation=90)\n",
    "m.set_yticklabels(m.get_yticklabels(), rotation=30)\n",
    "\n",
    "plt.show()"
   ]
  },
  {
   "cell_type": "markdown",
   "metadata": {},
   "source": [
    "Replace the sixteen missing values in Bare Nucei column"
   ]
  },
  {
   "cell_type": "code",
   "execution_count": 103,
   "metadata": {},
   "outputs": [
    {
     "name": "stdout",
     "output_type": "stream",
     "text": [
      "Number of missing values in the dataset:  Clump Thickness                0\n",
      "Uniformity of Cell Size        0\n",
      "Uniformity of Cell Shape       0\n",
      "Marginal Adhesion              0\n",
      "Single Epithelial Cell Size    0\n",
      "Bare Nuclei                    0\n",
      "Bland Chromatin                0\n",
      "Normal Nucleoli                0\n",
      "Mitoses                        0\n",
      "Class                          0\n",
      "dtype: int64\n"
     ]
    }
   ],
   "source": [
    "#there are 16 missing values in the Bare Nuclei column\n",
    "#use MEDIAN IMPUTATION to fill missing values\n",
    "\n",
    "df[\"Bare Nuclei\"].fillna(df[\"Bare Nuclei\"].median(), inplace=True)\n",
    "\n",
    "print(\"Number of missing values in the dataset: \", df.isnull().sum())"
   ]
  },
  {
   "cell_type": "code",
   "execution_count": 104,
   "metadata": {},
   "outputs": [],
   "source": [
    "#Train Test Split\n",
    "from sklearn.model_selection import train_test_split\n",
    "\n",
    "x = df.drop('Class', axis=1) #features\n",
    "y = df['Class'] #target variable\n",
    "\n",
    "x_train, x_test, y_train, y_test = train_test_split(x, y, test_size=0.3, random_state=42)"
   ]
  },
  {
   "cell_type": "markdown",
   "metadata": {},
   "source": [
    "Apply Standard Scaler for Normalization"
   ]
  },
  {
   "cell_type": "code",
   "execution_count": 105,
   "metadata": {},
   "outputs": [],
   "source": [
    "#Use standard scaler to scale the data\n",
    "from sklearn.preprocessing import StandardScaler\n",
    "\n",
    "scaler = StandardScaler()\n",
    "\n",
    "x_train = scaler.fit_transform(x_train) #fit_transform on training data\n",
    "#now apply the transformation on test data\n",
    "x_test = scaler.transform(x_test)\n",
    "\n",
    "#get them back as dataframes\n",
    "x_train = pd.DataFrame(x_train, columns=x.columns)\n",
    "x_test = pd.DataFrame(x_test, columns=x.columns)"
   ]
  },
  {
   "cell_type": "code",
   "execution_count": 106,
   "metadata": {},
   "outputs": [
    {
     "data": {
      "text/plain": [
       "((489, 9), (210, 9))"
      ]
     },
     "execution_count": 106,
     "metadata": {},
     "output_type": "execute_result"
    }
   ],
   "source": [
    "x_train.shape, x_test.shape"
   ]
  },
  {
   "cell_type": "code",
   "execution_count": 107,
   "metadata": {},
   "outputs": [
    {
     "data": {
      "text/html": [
       "<div>\n",
       "<style scoped>\n",
       "    .dataframe tbody tr th:only-of-type {\n",
       "        vertical-align: middle;\n",
       "    }\n",
       "\n",
       "    .dataframe tbody tr th {\n",
       "        vertical-align: top;\n",
       "    }\n",
       "\n",
       "    .dataframe thead th {\n",
       "        text-align: right;\n",
       "    }\n",
       "</style>\n",
       "<table border=\"1\" class=\"dataframe\">\n",
       "  <thead>\n",
       "    <tr style=\"text-align: right;\">\n",
       "      <th></th>\n",
       "      <th>Clump Thickness</th>\n",
       "      <th>Uniformity of Cell Size</th>\n",
       "      <th>Uniformity of Cell Shape</th>\n",
       "      <th>Marginal Adhesion</th>\n",
       "      <th>Single Epithelial Cell Size</th>\n",
       "      <th>Bare Nuclei</th>\n",
       "      <th>Bland Chromatin</th>\n",
       "      <th>Normal Nucleoli</th>\n",
       "      <th>Mitoses</th>\n",
       "    </tr>\n",
       "  </thead>\n",
       "  <tbody>\n",
       "    <tr>\n",
       "      <th>0</th>\n",
       "      <td>1.232031</td>\n",
       "      <td>2.257370</td>\n",
       "      <td>2.245488</td>\n",
       "      <td>1.503389</td>\n",
       "      <td>2.999016</td>\n",
       "      <td>1.719954</td>\n",
       "      <td>1.387388</td>\n",
       "      <td>0.049397</td>\n",
       "      <td>3.939748</td>\n",
       "    </tr>\n",
       "    <tr>\n",
       "      <th>1</th>\n",
       "      <td>0.166981</td>\n",
       "      <td>2.257370</td>\n",
       "      <td>2.245488</td>\n",
       "      <td>2.576611</td>\n",
       "      <td>2.999016</td>\n",
       "      <td>-0.436604</td>\n",
       "      <td>2.576925</td>\n",
       "      <td>2.365662</td>\n",
       "      <td>5.163334</td>\n",
       "    </tr>\n",
       "    <tr>\n",
       "      <th>2</th>\n",
       "      <td>-1.253085</td>\n",
       "      <td>-0.717087</td>\n",
       "      <td>-0.769275</td>\n",
       "      <td>-0.643055</td>\n",
       "      <td>-0.556181</td>\n",
       "      <td>-0.706173</td>\n",
       "      <td>-0.198662</td>\n",
       "      <td>-0.612392</td>\n",
       "      <td>-0.342804</td>\n",
       "    </tr>\n",
       "    <tr>\n",
       "      <th>3</th>\n",
       "      <td>-0.543052</td>\n",
       "      <td>-0.386592</td>\n",
       "      <td>-0.434301</td>\n",
       "      <td>0.072426</td>\n",
       "      <td>-0.556181</td>\n",
       "      <td>-0.167034</td>\n",
       "      <td>-0.198662</td>\n",
       "      <td>-0.612392</td>\n",
       "      <td>-0.342804</td>\n",
       "    </tr>\n",
       "    <tr>\n",
       "      <th>4</th>\n",
       "      <td>0.166981</td>\n",
       "      <td>2.257370</td>\n",
       "      <td>2.245488</td>\n",
       "      <td>0.072426</td>\n",
       "      <td>2.110217</td>\n",
       "      <td>-0.706173</td>\n",
       "      <td>0.594363</td>\n",
       "      <td>2.365662</td>\n",
       "      <td>0.880782</td>\n",
       "    </tr>\n",
       "  </tbody>\n",
       "</table>\n",
       "</div>"
      ],
      "text/plain": [
       "   Clump Thickness  Uniformity of Cell Size  Uniformity of Cell Shape  \\\n",
       "0         1.232031                 2.257370                  2.245488   \n",
       "1         0.166981                 2.257370                  2.245488   \n",
       "2        -1.253085                -0.717087                 -0.769275   \n",
       "3        -0.543052                -0.386592                 -0.434301   \n",
       "4         0.166981                 2.257370                  2.245488   \n",
       "\n",
       "   Marginal Adhesion  Single Epithelial Cell Size  Bare Nuclei  \\\n",
       "0           1.503389                     2.999016     1.719954   \n",
       "1           2.576611                     2.999016    -0.436604   \n",
       "2          -0.643055                    -0.556181    -0.706173   \n",
       "3           0.072426                    -0.556181    -0.167034   \n",
       "4           0.072426                     2.110217    -0.706173   \n",
       "\n",
       "   Bland Chromatin  Normal Nucleoli   Mitoses  \n",
       "0         1.387388         0.049397  3.939748  \n",
       "1         2.576925         2.365662  5.163334  \n",
       "2        -0.198662        -0.612392 -0.342804  \n",
       "3        -0.198662        -0.612392 -0.342804  \n",
       "4         0.594363         2.365662  0.880782  "
      ]
     },
     "execution_count": 107,
     "metadata": {},
     "output_type": "execute_result"
    }
   ],
   "source": [
    "x_train.head()"
   ]
  },
  {
   "cell_type": "code",
   "execution_count": 108,
   "metadata": {},
   "outputs": [
    {
     "data": {
      "text/html": [
       "<div>\n",
       "<style scoped>\n",
       "    .dataframe tbody tr th:only-of-type {\n",
       "        vertical-align: middle;\n",
       "    }\n",
       "\n",
       "    .dataframe tbody tr th {\n",
       "        vertical-align: top;\n",
       "    }\n",
       "\n",
       "    .dataframe thead th {\n",
       "        text-align: right;\n",
       "    }\n",
       "</style>\n",
       "<table border=\"1\" class=\"dataframe\">\n",
       "  <thead>\n",
       "    <tr style=\"text-align: right;\">\n",
       "      <th></th>\n",
       "      <th>Clump Thickness</th>\n",
       "      <th>Uniformity of Cell Size</th>\n",
       "      <th>Uniformity of Cell Shape</th>\n",
       "      <th>Marginal Adhesion</th>\n",
       "      <th>Single Epithelial Cell Size</th>\n",
       "      <th>Bare Nuclei</th>\n",
       "      <th>Bland Chromatin</th>\n",
       "      <th>Normal Nucleoli</th>\n",
       "      <th>Mitoses</th>\n",
       "    </tr>\n",
       "  </thead>\n",
       "  <tbody>\n",
       "    <tr>\n",
       "      <th>0</th>\n",
       "      <td>-1.253085</td>\n",
       "      <td>-0.717087</td>\n",
       "      <td>-0.434301</td>\n",
       "      <td>-0.643055</td>\n",
       "      <td>-0.111782</td>\n",
       "      <td>-0.706173</td>\n",
       "      <td>-0.991687</td>\n",
       "      <td>-0.612392</td>\n",
       "      <td>-0.342804</td>\n",
       "    </tr>\n",
       "    <tr>\n",
       "      <th>1</th>\n",
       "      <td>-0.188035</td>\n",
       "      <td>-0.717087</td>\n",
       "      <td>-0.769275</td>\n",
       "      <td>-0.643055</td>\n",
       "      <td>-0.556181</td>\n",
       "      <td>-0.706173</td>\n",
       "      <td>-0.595174</td>\n",
       "      <td>-0.612392</td>\n",
       "      <td>-0.342804</td>\n",
       "    </tr>\n",
       "    <tr>\n",
       "      <th>2</th>\n",
       "      <td>-0.543052</td>\n",
       "      <td>-0.717087</td>\n",
       "      <td>-0.769275</td>\n",
       "      <td>-0.643055</td>\n",
       "      <td>-0.556181</td>\n",
       "      <td>-0.706173</td>\n",
       "      <td>-0.198662</td>\n",
       "      <td>-0.612392</td>\n",
       "      <td>-0.342804</td>\n",
       "    </tr>\n",
       "    <tr>\n",
       "      <th>3</th>\n",
       "      <td>0.166981</td>\n",
       "      <td>0.604894</td>\n",
       "      <td>0.570620</td>\n",
       "      <td>1.145648</td>\n",
       "      <td>-0.111782</td>\n",
       "      <td>1.719954</td>\n",
       "      <td>-0.198662</td>\n",
       "      <td>-0.612392</td>\n",
       "      <td>-0.342804</td>\n",
       "    </tr>\n",
       "    <tr>\n",
       "      <th>4</th>\n",
       "      <td>-0.543052</td>\n",
       "      <td>-0.717087</td>\n",
       "      <td>-0.769275</td>\n",
       "      <td>-0.643055</td>\n",
       "      <td>-0.556181</td>\n",
       "      <td>-0.706173</td>\n",
       "      <td>-0.198662</td>\n",
       "      <td>-0.612392</td>\n",
       "      <td>-0.342804</td>\n",
       "    </tr>\n",
       "  </tbody>\n",
       "</table>\n",
       "</div>"
      ],
      "text/plain": [
       "   Clump Thickness  Uniformity of Cell Size  Uniformity of Cell Shape  \\\n",
       "0        -1.253085                -0.717087                 -0.434301   \n",
       "1        -0.188035                -0.717087                 -0.769275   \n",
       "2        -0.543052                -0.717087                 -0.769275   \n",
       "3         0.166981                 0.604894                  0.570620   \n",
       "4        -0.543052                -0.717087                 -0.769275   \n",
       "\n",
       "   Marginal Adhesion  Single Epithelial Cell Size  Bare Nuclei  \\\n",
       "0          -0.643055                    -0.111782    -0.706173   \n",
       "1          -0.643055                    -0.556181    -0.706173   \n",
       "2          -0.643055                    -0.556181    -0.706173   \n",
       "3           1.145648                    -0.111782     1.719954   \n",
       "4          -0.643055                    -0.556181    -0.706173   \n",
       "\n",
       "   Bland Chromatin  Normal Nucleoli   Mitoses  \n",
       "0        -0.991687        -0.612392 -0.342804  \n",
       "1        -0.595174        -0.612392 -0.342804  \n",
       "2        -0.198662        -0.612392 -0.342804  \n",
       "3        -0.198662        -0.612392 -0.342804  \n",
       "4        -0.198662        -0.612392 -0.342804  "
      ]
     },
     "execution_count": 108,
     "metadata": {},
     "output_type": "execute_result"
    }
   ],
   "source": [
    "x_test.head()"
   ]
  },
  {
   "cell_type": "markdown",
   "metadata": {},
   "source": [
    "## USE KNN Classifier - EUCLIDEAN DISTANCE"
   ]
  },
  {
   "cell_type": "code",
   "execution_count": 109,
   "metadata": {},
   "outputs": [
    {
     "data": {
      "text/plain": [
       "KNeighborsClassifier()"
      ]
     },
     "execution_count": 109,
     "metadata": {},
     "output_type": "execute_result"
    }
   ],
   "source": [
    "#KNN Classifier\n",
    "from sklearn.neighbors import KNeighborsClassifier\n",
    "\n",
    "#auto: EUCLEDIAN DISTANCE\n",
    "knn = KNeighborsClassifier(n_neighbors=5)\n",
    "\n",
    "knn.fit(x_train, y_train)"
   ]
  },
  {
   "cell_type": "code",
   "execution_count": 110,
   "metadata": {},
   "outputs": [
    {
     "name": "stdout",
     "output_type": "stream",
     "text": [
      "Accuracy:  0.9666666666666667\n",
      "Confusion Matrix: \n",
      " [[141   2]\n",
      " [  5  62]]\n",
      "Classification Report: \n",
      "               precision    recall  f1-score   support\n",
      "\n",
      "           2       0.97      0.99      0.98       143\n",
      "           4       0.97      0.93      0.95        67\n",
      "\n",
      "    accuracy                           0.97       210\n",
      "   macro avg       0.97      0.96      0.96       210\n",
      "weighted avg       0.97      0.97      0.97       210\n",
      "\n"
     ]
    }
   ],
   "source": [
    "y_pred = knn.predict(x_test)\n",
    "\n",
    "from sklearn.metrics import accuracy_score, confusion_matrix, classification_report\n",
    "\n",
    "print(\"Accuracy: \", accuracy_score(y_test, y_pred))\n",
    "\n",
    "print(\"Confusion Matrix: \\n\", confusion_matrix(y_test, y_pred))\n",
    "\n",
    "print(\"Classification Report: \\n\", classification_report(y_test, y_pred))"
   ]
  },
  {
   "cell_type": "markdown",
   "metadata": {},
   "source": [
    "Comparison between Model Accuracy and Null Accuracy"
   ]
  },
  {
   "cell_type": "code",
   "execution_count": 111,
   "metadata": {},
   "outputs": [
    {
     "data": {
      "text/plain": [
       "2    143\n",
       "4     67\n",
       "Name: Class, dtype: int64"
      ]
     },
     "execution_count": 111,
     "metadata": {},
     "output_type": "execute_result"
    }
   ],
   "source": [
    "c = y_test.value_counts()\n",
    "c"
   ]
  },
  {
   "cell_type": "code",
   "execution_count": 112,
   "metadata": {},
   "outputs": [
    {
     "data": {
      "text/plain": [
       "0.680952380952381"
      ]
     },
     "execution_count": 112,
     "metadata": {},
     "output_type": "execute_result"
    }
   ],
   "source": [
    "#Most frequent class is class 2 with 143 samples\n",
    "\n",
    "#Calculate Null Accuracy\n",
    "null_accuracy = c.max() / c.sum()\n",
    "null_accuracy"
   ]
  },
  {
   "cell_type": "markdown",
   "metadata": {},
   "source": [
    "So, the default version of the KNN Classifier wins against Null Accuracy by having an accuracy of 96.7% vs 68.1%"
   ]
  }
 ],
 "metadata": {
  "kernelspec": {
   "display_name": "base",
   "language": "python",
   "name": "python3"
  },
  "language_info": {
   "codemirror_mode": {
    "name": "ipython",
    "version": 3
   },
   "file_extension": ".py",
   "mimetype": "text/x-python",
   "name": "python",
   "nbconvert_exporter": "python",
   "pygments_lexer": "ipython3",
   "version": "3.8.5"
  }
 },
 "nbformat": 4,
 "nbformat_minor": 2
}
